{
 "cells": [
  {
   "cell_type": "markdown",
   "metadata": {},
   "source": [
    "# Homework 5 - Explore California and Nevada with graphs\n",
    "---\n",
    "Here we import every library we'll need."
   ]
  },
  {
   "cell_type": "code",
   "execution_count": 1,
   "metadata": {},
   "outputs": [],
   "source": [
    "import networkx as nx\n",
    "import numpy as np"
   ]
  },
  {
   "cell_type": "markdown",
   "metadata": {},
   "source": [
    "---\n",
    "# Graph class\n",
    "Here we're going to create our graph class which we're going to use for basically every task. Since we'll use a lot of nodes and every node shouldn't be connected to many edges (considering that our graph represents a map of roads) we'll use adjacency list to represent the graph. An adjacency matrix would take too much memory and most of the entries would be zero, so it would be really inefficient."
   ]
  },
  {
   "cell_type": "code",
   "execution_count": 2,
   "metadata": {},
   "outputs": [],
   "source": [
    "# This class is going to represent a graph, so that we can organize all the implementation and methods of\n",
    "# our data structure in an organized way\n",
    "class Graph:\n",
    "    \n",
    "    # This constructur takes as parameter the number of nodes\n",
    "    def __init__(self, size):\n",
    "        self._nodes = [[] for _ in range(size)]\n",
    "        \n",
    "    # This method adds an edge to the graph, together with an optional dict of weights\n",
    "    # The edge is given as a tuple of nodes\n",
    "    def add_edge(self, edge, weights = None):\n",
    "        to_add = edge[1]\n",
    "        if(not weights is None):\n",
    "            to_add = (edge[1], weights)\n",
    "        self._nodes[edge[0]].append(to_add)\n",
    "        \n",
    "    # This method gets all neighbours of a node and given weights of the edges connecting them to the node\n",
    "    def get_neighbours(self, node, features = None):\n",
    "        if(features is None):\n",
    "            return([single_node[0] for single_node in self._nodes[node]])\n",
    "        to_return = []\n",
    "        for neighbour in self._nodes[node]:\n",
    "            to_return.append((neighbour[0], dict((k, neighbour[1][k]) for k in features if k in neighbour[1])))\n",
    "        return(to_return)\n",
    "    \n",
    "    # This method get an edge from the graph together with the specified weights\n",
    "    # If the edge doesn't exist it returns None\n",
    "    def get_edge(self, node_one, node_two, features = None):\n",
    "        for neighbour in self._nodes[node_one]:\n",
    "            if(neighbour[0] == node_two):\n",
    "                if(features is None):\n",
    "                    return((node_one, node_two))\n",
    "                return((node_one, node_two, dict((k, neighbour[1][k]) for k in features if k in neighbour[1])))\n",
    "        return(None)"
   ]
  },
  {
   "cell_type": "code",
   "execution_count": null,
   "metadata": {},
   "outputs": [],
   "source": []
  }
 ],
 "metadata": {
  "kernelspec": {
   "display_name": "Python 3",
   "language": "python",
   "name": "python3"
  },
  "language_info": {
   "codemirror_mode": {
    "name": "ipython",
    "version": 3
   },
   "file_extension": ".py",
   "mimetype": "text/x-python",
   "name": "python",
   "nbconvert_exporter": "python",
   "pygments_lexer": "ipython3",
   "version": "3.7.4"
  }
 },
 "nbformat": 4,
 "nbformat_minor": 2
}
