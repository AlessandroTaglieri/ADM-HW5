{
 "cells": [
  {
   "cell_type": "markdown",
   "metadata": {},
   "source": [
    "# Homework 5 - Explore California and Nevada with graphs\n",
    "---\n",
    "Here we import every library we'll need."
   ]
  },
  {
   "cell_type": "code",
   "execution_count": 1,
   "metadata": {},
   "outputs": [],
   "source": [
    "import networkx as nx\n",
    "import numpy as np\n",
    "from collections import deque"
   ]
  },
  {
   "cell_type": "markdown",
   "metadata": {},
   "source": [
    "---\n",
    "## Graph class\n",
    "Here we're going to create our graph class which we're going to use for basically every task. Since we'll use a lot of nodes and every node shouldn't be connected to many edges (considering that our graph represents a map of roads) we'll use an djacency list to represent the graph. An adjacency matrix would take too much memory and most of the entries would be zero, so it would be really inefficient.\n",
    "\n",
    "We're going to assume we'll work with undirected graphs, so we implement a class consequentially."
   ]
  },
  {
   "cell_type": "code",
   "execution_count": 2,
   "metadata": {},
   "outputs": [],
   "source": [
    "# This class is going to represent a graph, so that we can organize all the implementation and methods of\n",
    "# our data structure in an organized way\n",
    "class Graph:\n",
    "    \n",
    "    # This constructur takes as parameter the number of nodes\n",
    "    def __init__(self, size):\n",
    "        self._nodes = [[] for _ in range(size)]\n",
    "        self._nodes_features = [{} for _ in range(size)]\n",
    "        \n",
    "    # This method adds features to a node in the form of a dictionary\n",
    "    def add_features_to_node(self, node, features, replace = False):\n",
    "        if(replace):\n",
    "            self._nodes_features[node - 1] = features\n",
    "        else:\n",
    "            for key in features.keys():\n",
    "                self._nodes_features[node - 1][key] = features[key]\n",
    "                \n",
    "    # This method is for removing all given features from the nodes of the graph, or all features if no second\n",
    "    # parameter is given\n",
    "    def reset_features(self, features = None):\n",
    "        if(features is None):\n",
    "            for index in range(len(self._nodes_features)):\n",
    "                self._nodes_features[index] = {}\n",
    "        else:\n",
    "            for index in range(len(self._nodes_features)):\n",
    "                for feature in features:\n",
    "                    self._nodes_features[index].pop(feature, None)\n",
    "        \n",
    "    # This method is for getting features of a node\n",
    "    def get_feature_of_node(self, node, feature):\n",
    "        moment = self._nodes_features[node - 1]\n",
    "        if(feature in moment.keys()):\n",
    "            return(moment[feature])\n",
    "        return(None)\n",
    "        \n",
    "    # This method adds an edge to the graph, together with an optional dict of weights\n",
    "    # The edge is given as a tuple of nodes\n",
    "    def add_edge(self, edge, weights = None):\n",
    "        to_add = (edge[1] - 1, {})\n",
    "        if(not weights is None):\n",
    "            to_add = (edge[1] - 1, weights)\n",
    "        self._nodes[edge[0] - 1].append(to_add)\n",
    "        \n",
    "        to_add = (edge[0] - 1, {})\n",
    "        if(not weights is None):\n",
    "            to_add = (edge[0] - 1, weights)\n",
    "        self._nodes[edge[1] - 1].append(to_add)\n",
    "        \n",
    "    # This method gets all neighbours of a node and given weights of the edges connecting them to the node\n",
    "    def get_neighbours(self, node, features = None):\n",
    "        if(features is None):\n",
    "            return([single_node[0] + 1 for single_node in self._nodes[node - 1]])\n",
    "        to_return = []\n",
    "        for neighbour in self._nodes[node - 1]:\n",
    "            to_return.append((neighbour[0] + 1, dict((k, neighbour[1][k]) for k in features if k in neighbour[1])))\n",
    "        return(to_return)\n",
    "    \n",
    "    # This method get an edge from the graph together with the specified weights\n",
    "    # If the edge doesn't exist it returns None\n",
    "    def get_edge(self, node_one, node_two, features = None):\n",
    "        for neighbour in self._nodes[node_one - 1]:\n",
    "            if(neighbour[0] == node_two - 1):\n",
    "                if(features is None):\n",
    "                    return((node_one, node_two))\n",
    "                return((node_one, node_two, dict((k, neighbour[1][k]) for k in features if k in neighbour[1])))\n",
    "        return(None)\n",
    "    \n",
    "    # This method updates and edge adding more weights or replacing them (based on replace parameter)\n",
    "    # It doesn't do anything if the edge doesn't exist\n",
    "    def update_edge(self, node_one, node_two, weights):\n",
    "        for neighbour in self._nodes[node_one - 1]:\n",
    "            if(neighbour[0] == node_two - 1):\n",
    "                for key in weights.keys():\n",
    "                    neighbour[1][key] = weights[key]\n",
    "                return\n",
    "            \n",
    "    # This method prints the adjacency list of the graph, it will be used just to check that everything works fine\n",
    "    def print_graph(self, head = None):\n",
    "        if(head is None):\n",
    "            head = len(self._nodes)\n",
    "        for index in range(head):\n",
    "            print(index + 1, end = \" : \")\n",
    "            print([(node[0] + 1, node[1]) for node in self._nodes[index]])"
   ]
  },
  {
   "cell_type": "markdown",
   "metadata": {},
   "source": [
    "---\n",
    "## Collecting data\n",
    "Here we're going to use the files we have downloaded to create and populate our graph of interest. To start we need to count how many nodes we need so we can correctly create our graph."
   ]
  },
  {
   "cell_type": "code",
   "execution_count": 3,
   "metadata": {
    "scrolled": true
   },
   "outputs": [
    {
     "name": "stdout",
     "output_type": "stream",
     "text": [
      "1890815\n"
     ]
    }
   ],
   "source": [
    "counter = 0\n",
    "nodes = open(\"USA-road-d.CAL.co\" , \"r\")\n",
    "while(True):\n",
    "    string = nodes.readline()\n",
    "    if(string == \"\"):\n",
    "        break\n",
    "    if(string[0] == 'v'):\n",
    "        counter = counter + 1\n",
    "nodes.close()\n",
    "print(counter)"
   ]
  },
  {
   "cell_type": "markdown",
   "metadata": {},
   "source": [
    "Now that we know our graph will contain $1890815$ nodes we can create it."
   ]
  },
  {
   "cell_type": "code",
   "execution_count": 4,
   "metadata": {},
   "outputs": [],
   "source": [
    "CAL = Graph(1890815)"
   ]
  },
  {
   "cell_type": "markdown",
   "metadata": {},
   "source": [
    "Now we're going to populate our graph wiht edges. Since every edge appear four times in total in our files (twice per file), we need some caution in doing this. In fact we have to be aware that our graph doesn't see if an edge already exists before adding it and since it's an undirected graph class we don't need to add every edge twice (one for direction)."
   ]
  },
  {
   "cell_type": "code",
   "execution_count": 5,
   "metadata": {},
   "outputs": [],
   "source": [
    "times = open(\"USA-road-t.CAL.gr\", \"r\")\n",
    "distances = open(\"USA-road-d.CAL.gr\", \"r\")\n",
    "counter = 0\n",
    "while(True):\n",
    "    string_time = times.readline()\n",
    "    string_distance = distances.readline()\n",
    "    if(string_time == \"\"):\n",
    "        break\n",
    "    if(string_time[0] == 'a' and (counter % 2) == 1):\n",
    "        edge_time = string_time.split(\" \")\n",
    "        edge_distance = string_distance.split(\" \")\n",
    "        CAL.add_edge((int(edge_time[1]), int(edge_time[2])), {\"Time\" : int(edge_time[3]), \"Distance\" : int(edge_distance[3])})  \n",
    "    counter = counter + 1\n",
    "times.close()\n",
    "distances.close()"
   ]
  },
  {
   "cell_type": "markdown",
   "metadata": {},
   "source": [
    "---\n",
    "## Shortest path in a graph\n",
    "In order to solve a lot of tasks we'll need a way to find the shortest path connecting two nodes in a graph. This is a common problem and we'll implement two different algorithms to accomplish our goal.\n",
    "\n",
    "The first one is the breadth-first-search to find out what the minimum path connecting two nodes in a graph is, whitout taking into consideration any weight. Then we'll implement the Dijkstra's algorithm to find the shortest path based on a certain weight.\n",
    "\n",
    "### Breadth-first-search\n",
    "Here we implement our breadth-first-search algorithm. Since we want it to work for graphs belonging to our class we're going to implement this method like it belongs to our <code>Graph</code> class and then use <code>seatattr()</code> to actually add it to the class."
   ]
  },
  {
   "cell_type": "code",
   "execution_count": 6,
   "metadata": {},
   "outputs": [],
   "source": [
    "# This method finds the shortest path connecting a source and a target node using a breadth-first-search\n",
    "# It returns None if not such a path exists\n",
    "def breadth_first_search(self, source, target):\n",
    "    in_queue_nodes = deque()\n",
    "    \n",
    "    in_queue_nodes.appendleft(source)\n",
    "    self.add_features_to_node(source, {\"Visited\" : True})\n",
    "    while(True):\n",
    "        if(not in_queue_nodes):\n",
    "            self.reset_features([\"Visited\", \"Parent\"])\n",
    "            return(None)\n",
    "        visiting_now = in_queue_nodes.pop()\n",
    "        if(visiting_now == target):\n",
    "            break\n",
    "        for neighbour in self.get_neighbours(visiting_now):\n",
    "            if(self.get_feature_of_node(neighbour, \"Visited\") is None):\n",
    "                in_queue_nodes.appendleft(neighbour)\n",
    "                self.add_features_to_node(neighbour, {\"Parent\" : visiting_now, \"Visited\" : True})\n",
    "    \n",
    "    to_return = []\n",
    "    while(not visiting_now is None):\n",
    "        to_return.append(visiting_now)\n",
    "        visiting_now = self.get_feature_of_node(visiting_now, \"Parent\")\n",
    "    self.reset_features([\"Visited\", \"Parent\"])\n",
    "    \n",
    "    return(to_return[::-1])\n",
    "\n",
    "setattr(Graph, 'breadth_first_search', breadth_first_search)"
   ]
  },
  {
   "cell_type": "markdown",
   "metadata": {},
   "source": [
    "### Dijkstra algorithm\n",
    "Here we implement our Dijkstra algorithm which we'll use to find the shortest path in a graph connecting two nodes taking into considerations weights. Before we can code the algorithm we need an heap to store nodes and extracting them.\n",
    "\n",
    "We're going to use a binaryl heap, which should be enough to make an efficient algorithm. We could use a Binomial heap or a Fibonacci heap, but it would be a lot more complicated and, considered constant factors, it's not even guaranteed to gain much efficiency.\n",
    "\n",
    "So let's start defining our <code>Binary_Heap</code> class. We're going to represent it as a list <code>heap</code> where every entry is a node and children of <code>heap[i]</code> are <code>heap[2i]</code> and <code>heap[2i + 1]</code>. The binary heap is associated with an <code>int_function</code> which converts nodes to integer used for comparison."
   ]
  },
  {
   "cell_type": "code",
   "execution_count": 7,
   "metadata": {},
   "outputs": [],
   "source": [
    "# This class represents a binary heap using a list.\n",
    "class Binary_Heap:\n",
    "    \n",
    "    # This constructor is for creating a binary heap containing a single node\n",
    "    def __init__(self, single_node, int_function = lambda x : x):\n",
    "        self._heap = [None, single_node]\n",
    "        self._int_function = int_function\n",
    "    \n",
    "    # This constructor is for getting left child of a node given his index, None if not such a child exists\n",
    "    def get_left_child(self, node_index):\n",
    "        position = node_index * 2\n",
    "        if(position >= len(self._heap)):\n",
    "            return(None)\n",
    "        return(self._heap[position])\n",
    "    \n",
    "    # Like left child, but for right child\n",
    "    def get_right_child(self, node_index):\n",
    "        position = (node_index * 2) + 1\n",
    "        if(position >= len(self._heap)):\n",
    "            return(None)\n",
    "        return(self._heap[position])\n",
    "    \n",
    "    # This constructor is for getting parent of a node given is index, None if not such a parent exists\n",
    "    def get_parent(self, node_index):\n",
    "        return(self._heap[node_index // 2])\n",
    "    \n",
    "    # This is the heapify function, it helps preserving the properties of the heap\n",
    "    def heapify(self, index):\n",
    "        left = 2 * index\n",
    "        right = (2 * index) + 1\n",
    "        minimum = index\n",
    "        if(left < len(self._heap) and self._int_function(self._heap[left]) < self._int_function(self._heap[minimum])):\n",
    "            minimum = left\n",
    "        if(right < len(self._heap) and self._int_function(self._heap[right]) < self._int_function(self._heap[minimum])):\n",
    "            minimum = right\n",
    "        if(minimum != index):\n",
    "            aux = self._heap[index]\n",
    "            self._heap[index] = self._heap[minimum]\n",
    "            self._heap[minimum] = aux\n",
    "            self.heapify(minimum)\n",
    "        \n",
    "    # This function is for inserting a new node inside the heap\n",
    "    def insert(self, new_node):\n",
    "        if(len(self._heap) == 1):\n",
    "            self._heap.append(new_node)\n",
    "            return\n",
    "        self._heap.append(new_node)\n",
    "        index = len(self._heap) - 1\n",
    "        while(self._int_function(self._heap[index]) < self._int_function(self.get_parent(index))):\n",
    "            aux = self._heap[index]\n",
    "            self._heap[index] = self.get_parent(index)\n",
    "            self._heap[index // 2] = aux\n",
    "            index = index // 2\n",
    "            if(index // 2 == 0):\n",
    "                return\n",
    "    \n",
    "    # This function is for extracting the minimum element from the heap\n",
    "    def extract(self):\n",
    "        if(len(self._heap) == 2):\n",
    "            return(self._heap.pop())\n",
    "        to_return = self._heap[1]\n",
    "        self._heap[1] = self._heap.pop()\n",
    "        self.heapify(1)\n",
    "        return(to_return)\n",
    "    \n",
    "    # Method for checking if the heap is empty\n",
    "    def is_empty(self):\n",
    "        return(len(self._heap) == 1)"
   ]
  },
  {
   "cell_type": "markdown",
   "metadata": {},
   "source": [
    "Now we can implement our Dijkstra algorithm."
   ]
  },
  {
   "cell_type": "code",
   "execution_count": 8,
   "metadata": {},
   "outputs": [],
   "source": [
    "# Dijkstra's algorithm, it finds the shortest path in a graph connecting source and target taking into consideration\n",
    "# the given weight.\n",
    "def dijkstra(self, source, target, weight):\n",
    "    heap = Binary_Heap((source, 0), lambda x : x[1])\n",
    "    self.add_features_to_node(source, {\"Distance\" : 0})\n",
    "    while(True):\n",
    "        if(heap.is_empty()):\n",
    "            self.reset_features([\"Visited\", \"Distance\", \"Parent\"])\n",
    "            return(None)\n",
    "        current_node = heap.extract()\n",
    "        if(current_node[0] == target):\n",
    "            break\n",
    "        if(self.get_feature_of_node(current_node[0], \"Visited\")):\n",
    "            continue\n",
    "        this_distance = self.get_feature_of_node(current_node[0], \"Distance\")\n",
    "        for close_node in self.get_neighbours(current_node[0], [weight]):\n",
    "            prev_distance = self.get_feature_of_node(close_node[0], \"Distance\")\n",
    "            arc_weight = close_node[1][weight]\n",
    "            new_distance = this_distance + arc_weight\n",
    "            if(prev_distance is None or prev_distance > new_distance):\n",
    "                self.add_features_to_node(close_node[0], {\"Distance\" : new_distance, \"Parent\" : current_node[0]})\n",
    "                heap.insert((close_node[0], new_distance))\n",
    "        self.add_features_to_node(current_node[0], {\"Visited\" : True})\n",
    "    \n",
    "    current_node = current_node[0]\n",
    "    to_return = []\n",
    "    while(not current_node is None):\n",
    "        to_return.append(current_node)\n",
    "        current_node = self.get_feature_of_node(current_node, \"Parent\")\n",
    "    self.reset_features([\"Visited\", \"Distance\", \"Parent\"])\n",
    "    return(to_return[::-1])\n",
    "\n",
    "setattr(Graph, 'dijkstra', dijkstra)"
   ]
  },
  {
   "cell_type": "markdown",
   "metadata": {},
   "source": [
    "---\n",
    "## Functionality 3 - Shortest Ordered Route\n",
    "In this section we're going to implement functionality 3. Most of the work associated to it comes from finding the shortest path in a graph connecting two nodes and since we have already done that this will be a quick task.\n",
    "\n",
    "We start from a simple, but fundamental observation: given a node $H$ and a sequence of nodes $p_{1}, \\dots, p_{n}$ let $s_{i}$ be the shortest path going from $H$ to $p_{n}$ as asked by the functionality ($s_{i}$ is the $i$-th node taken by the path). Then for every couple of consecutive nodes $p_{j}, p_{j + 1}$ (or $H, p_{1}$) the subpath of $s_{i}$ connecting $p_{j}$ and $p_{j + 1}$ is the shortest path in the graph connecting $p_{j}$ and $p_{j + 1}$. In fact, if that's not the case we could substitute this subpath with the shortest path and we would get a shorter path than $s_{i}$ satisfying our properties.\n",
    "\n",
    "Considered this, to find the path asked by the functionality we just need to find the shortest path connecting two nodes sequentially: first for $H$ and $p_{1}$, then for $p_{1}$ and $p_{2}$ etc. etc.\n",
    "\n",
    "So let's do this. As always we're going to code a function and then we'll add it to our <code>Graph</code> class with the <code>setattr</code> method."
   ]
  },
  {
   "cell_type": "code",
   "execution_count": 9,
   "metadata": {},
   "outputs": [],
   "source": [
    "# This class finds the shortest ordered route given a sequence of nodes and based on a certain distance, if no\n",
    "# distance is specified it uses the network distance\n",
    "# The method uses Dijkstra when a distance is specified or Breadth-First-Search for network distance\n",
    "# The function returns None if not such a route exists\n",
    "def shortest_ordered_route(self, H, sequence_of_nodes, distance = None):\n",
    "    route = [H]\n",
    "    sequence = [H]\n",
    "    sequence.extend(sequence_of_nodes)\n",
    "    for index in range(len(sequence) - 1):\n",
    "        if(distance is None):\n",
    "            sub_route = self.breadth_first_search(sequence[index], sequence[index + 1])\n",
    "        else:\n",
    "            sub_route = self.dijkstra(sequence[index], sequence[index + 1], distance)\n",
    "        if(sub_route is None):\n",
    "            return(None)\n",
    "        route.extend(sub_route[1:])\n",
    "    return(route)\n",
    "\n",
    "setattr(Graph, 'shortest_ordered_route', shortest_ordered_route)"
   ]
  },
  {
   "cell_type": "code",
   "execution_count": null,
   "metadata": {},
   "outputs": [],
   "source": []
  }
 ],
 "metadata": {
  "kernelspec": {
   "display_name": "Python 3",
   "language": "python",
   "name": "python3"
  },
  "language_info": {
   "codemirror_mode": {
    "name": "ipython",
    "version": 3
   },
   "file_extension": ".py",
   "mimetype": "text/x-python",
   "name": "python",
   "nbconvert_exporter": "python",
   "pygments_lexer": "ipython3",
   "version": "3.7.4"
  }
 },
 "nbformat": 4,
 "nbformat_minor": 2
}
