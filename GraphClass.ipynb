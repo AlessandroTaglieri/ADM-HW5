{
 "cells": [
  {
   "cell_type": "markdown",
   "metadata": {},
   "source": [
    "# Homework 5 - Explore California and Nevada with graphs\n",
    "---\n",
    "Here we import every library we'll need."
   ]
  },
  {
   "cell_type": "code",
   "execution_count": 1,
   "metadata": {},
   "outputs": [],
   "source": [
    "import networkx as nx\n",
    "import numpy as np\n",
    "from collections import deque"
   ]
  },
  {
   "cell_type": "markdown",
   "metadata": {},
   "source": [
    "---\n",
    "## Graph class\n",
    "Here we're going to create our graph class which we're going to use for basically every task. Since we'll use a lot of nodes and every node shouldn't be connected to many edges (considering that our graph represents a map of roads) we'll use an djacency list to represent the graph. An adjacency matrix would take too much memory and most of the entries would be zero, so it would be really inefficient.\n",
    "\n",
    "We're going to assume we'll work with undirected graphs, so we implement a class consequentially."
   ]
  },
  {
   "cell_type": "code",
   "execution_count": 75,
   "metadata": {},
   "outputs": [],
   "source": [
    "# This class is going to represent a graph, so that we can organize all the implementation and methods of\n",
    "# our data structure in an organized way\n",
    "class Graph:\n",
    "    \n",
    "    # This constructur takes as parameter the number of nodes\n",
    "    def __init__(self, size):\n",
    "        self._nodes = [[] for _ in range(size)]\n",
    "        self._nodes_features = [{} for _ in range(size)]\n",
    "        \n",
    "    # This method adds features to a node in the form of a dictionary\n",
    "    def add_features_to_node(self, node, features, replace = False):\n",
    "        if(replace):\n",
    "            self._nodes_features[node - 1] = features\n",
    "        else:\n",
    "            for key in features.keys():\n",
    "                self._nodes_features[node - 1][key] = features[key]\n",
    "                \n",
    "    # This method is for removing all features from the nodes of the graph\n",
    "    def reset_features(self):\n",
    "        for index in range(len(self._nodes_features)):\n",
    "            self._nodes_features[index] = {}\n",
    "        \n",
    "    # This method is for getting features of a node\n",
    "    def get_feature_of_node(self, node, feature):\n",
    "        moment = self._nodes_features[node - 1]\n",
    "        if(feature in moment.keys()):\n",
    "            return(moment[feature])\n",
    "        return(None)\n",
    "        \n",
    "    # This method adds an edge to the graph, together with an optional dict of weights\n",
    "    # The edge is given as a tuple of nodes\n",
    "    def add_edge(self, edge, weights = None):\n",
    "        to_add = (edge[1] - 1, {})\n",
    "        if(not weights is None):\n",
    "            to_add = (edge[1] - 1, weights)\n",
    "        self._nodes[edge[0] - 1].append(to_add)\n",
    "        \n",
    "        to_add = (edge[0] - 1, {})\n",
    "        if(not weights is None):\n",
    "            to_add = (edge[0] - 1, weights)\n",
    "        self._nodes[edge[1] - 1].append(to_add)\n",
    "        \n",
    "    # This method gets all neighbours of a node and given weights of the edges connecting them to the node\n",
    "    def get_neighbours(self, node, features = None):\n",
    "        if(features is None):\n",
    "            return([single_node[0] + 1 for single_node in self._nodes[node - 1]])\n",
    "        to_return = []\n",
    "        for neighbour in self._nodes[node - 1]:\n",
    "            to_return.append((neighbour[0] + 1, dict((k, neighbour[1][k]) for k in features if k in neighbour[1])))\n",
    "        return(to_return)\n",
    "    \n",
    "    # This method get an edge from the graph together with the specified weights\n",
    "    # If the edge doesn't exist it returns None\n",
    "    def get_edge(self, node_one, node_two, features = None):\n",
    "        for neighbour in self._nodes[node_one - 1]:\n",
    "            if(neighbour[0] == node_two - 1):\n",
    "                if(features is None):\n",
    "                    return((node_one + 1, node_two + 1))\n",
    "                return((node_one + 1, node_two + 1, dict((k, neighbour[1][k]) for k in features if k in neighbour[1])))\n",
    "        return(None)\n",
    "    \n",
    "    # This method updates and edge adding more weights or replacing them (based on replace parameter)\n",
    "    # It doesn't do anything if the edge doesn't exist\n",
    "    def update_edge(self, node_one, node_two, weights):\n",
    "        for neighbour in self._nodes[node_one - 1]:\n",
    "            if(neighbour[0] == node_two - 1):\n",
    "                for key in weights.keys():\n",
    "                    neighbour[1][key] = weights[key]\n",
    "                return\n",
    "            \n",
    "    # This method prints the adjacency list of the graph, it will be used just to check that everything works fine\n",
    "    def print_graph(self):\n",
    "        for index in range(len(self._nodes)):\n",
    "            print(index + 1, end = \" : \")\n",
    "            print([(node[0] + 1, node[1]) for node in self._nodes[index]])"
   ]
  },
  {
   "cell_type": "markdown",
   "metadata": {},
   "source": [
    "---\n",
    "## Shortest path in a graph\n",
    "In order to solve a lot of tasks we'll need a way to find the shortest path connecting two nodes in a graph. This is a common problem and we'll implement two different algorithms to accomplish our goal.\n",
    "\n",
    "The first one is the breadth-first-search to find out what the minimum path connecting two nodes in a graph is, whitout taking into consideration any weight. Then we'll implement the Dijkstra's algorithm to find the shortest path based on a certain weight.\n",
    "\n",
    "### Breadth-first-search\n",
    "Here we implement our breadth-first-search algorithm. Since we want it to work for graphs belonging to our class we're going to implement this method like it belongs to our <code>Graph</code> class and then use <code>seatattr()</code> to actually add it to the class. Before jumping straight to the method we need to create a node/parent class which we'll use for saving our results."
   ]
  },
  {
   "cell_type": "code",
   "execution_count": 4,
   "metadata": {},
   "outputs": [],
   "source": [
    "# This class is just for containing data: a node and his parent node.\n",
    "class Node_With_Parent:\n",
    "    \n",
    "    # Simple constructor\n",
    "    def __init__(self, this_node, parent_node):\n",
    "        self._node = this_node\n",
    "        self._parent = parent_node\n",
    "        \n",
    "    # Get the node in the data\n",
    "    def get_this_node(self):\n",
    "        return(self._node)\n",
    "    \n",
    "    # Get the parent node (which is againa  node_with_parent object)\n",
    "    def get_parent(self):\n",
    "        return(self._parent)"
   ]
  },
  {
   "cell_type": "markdown",
   "metadata": {},
   "source": [
    "Now we can define our breadth-first-search method."
   ]
  },
  {
   "cell_type": "code",
   "execution_count": 76,
   "metadata": {},
   "outputs": [],
   "source": [
    "def breadth_first_search(self, source, target):\n",
    "    in_queue_nodes = deque()\n",
    "    \n",
    "    in_queue_nodes.appendleft(Node_With_Parent(source, None))\n",
    "    while(True):\n",
    "        if(not in_queue_nodes):\n",
    "            self.reset_features()\n",
    "            return(None)\n",
    "        visiting_now = in_queue_nodes.pop()\n",
    "        if(visiting_now.get_this_node() == target):\n",
    "            break\n",
    "        self.add_features_to_node(visiting_now.get_this_node(), {\"Visited\" : True})\n",
    "        for neighbour in self.get_neighbours(visiting_now.get_this_node()):\n",
    "            if(self.get_feature_of_node(neighbour, \"Visited\") is None):\n",
    "                in_queue_nodes.appendleft(Node_With_Parent(neighbour, visiting_now))\n",
    "                \n",
    "    self.reset_features()\n",
    "    \n",
    "    to_return = []\n",
    "    while(not visiting_now is None):\n",
    "        to_return.append(visiting_now.get_this_node())\n",
    "        visiting_now = visiting_now.get_parent()\n",
    "    \n",
    "    return(to_return[::-1])\n",
    "\n",
    "setattr(Graph, 'breadth_first_search', breadth_first_search)"
   ]
  }
 ],
 "metadata": {
  "kernelspec": {
   "display_name": "Python 3",
   "language": "python",
   "name": "python3"
  },
  "language_info": {
   "codemirror_mode": {
    "name": "ipython",
    "version": 3
   },
   "file_extension": ".py",
   "mimetype": "text/x-python",
   "name": "python",
   "nbconvert_exporter": "python",
   "pygments_lexer": "ipython3",
   "version": "3.7.4"
  }
 },
 "nbformat": 4,
 "nbformat_minor": 2
}
