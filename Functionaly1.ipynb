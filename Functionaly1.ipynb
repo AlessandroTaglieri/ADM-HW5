{
 "cells": [
  {
   "cell_type": "code",
   "execution_count": 340,
   "metadata": {},
   "outputs": [],
   "source": [
    "import networkx as nx\n",
    "import numpy as np\n",
    "from collections import deque"
   ]
  },
  {
   "cell_type": "code",
   "execution_count": 341,
   "metadata": {},
   "outputs": [],
   "source": [
    "# This class is going to represent a graph, so that we can organize all the implementation and methods of\n",
    "# our data structure in an organized way\n",
    "class Graph:\n",
    "    \n",
    "    # This constructur takes as parameter the number of nodes\n",
    "    def __init__(self, size):\n",
    "        self._nodes = [[] for _ in range(size)]\n",
    "        self._nodes_features = [{} for _ in range(size)]\n",
    "        \n",
    "    # This method adds features to a node in the form of a dictionary\n",
    "    def add_features_to_node(self, node, features, replace = False):\n",
    "        if(replace):\n",
    "            self._nodes_features[node - 1] = features\n",
    "        else:\n",
    "            for key in features.keys():\n",
    "                self._nodes_features[node - 1][key] = features[key]\n",
    "                \n",
    "    # This method is for removing all given features from the nodes of the graph, or all features if no second\n",
    "    # parameter is given\n",
    "    def reset_features(self, features = None):\n",
    "        if(features is None):\n",
    "            for index in range(len(self._nodes_features)):\n",
    "                self._nodes_features[index] = {}\n",
    "        else:\n",
    "            for index in range(len(self._nodes_features)):\n",
    "                for feature in features:\n",
    "                    self._nodes_features[index].pop(feature, None)\n",
    "        \n",
    "    # This method is for getting features of a node\n",
    "    def get_feature_of_node(self, node, feature):\n",
    "        moment = self._nodes_features[node - 1]\n",
    "        if(feature in moment.keys()):\n",
    "            return(moment[feature])\n",
    "        return(None)\n",
    "        \n",
    "    # This method adds an edge to the graph, together with an optional dict of weights\n",
    "    # The edge is given as a tuple of nodes\n",
    "    def add_edge(self, edge, weights = None):\n",
    "        to_add = (edge[1] - 1, {})\n",
    "        if(not weights is None):\n",
    "            to_add = (edge[1] - 1, weights)\n",
    "        self._nodes[edge[0] - 1].append(to_add)\n",
    "        \n",
    "        to_add = (edge[0] - 1, {})\n",
    "        if(not weights is None):\n",
    "            to_add = (edge[0] - 1, weights)\n",
    "        self._nodes[edge[1] - 1].append(to_add)\n",
    "        \n",
    "    # This method gets all neighbours of a node and given weights of the edges connecting them to the node\n",
    "    def get_neighbours(self, node, features = None):\n",
    "        if(features is None):\n",
    "            return([single_node[0] + 1 for single_node in self._nodes[node - 1]])\n",
    "        to_return = []\n",
    "        for neighbour in self._nodes[node - 1]:\n",
    "            to_return.append((neighbour[0] + 1, dict((k, neighbour[1][k]) for k in features if k in neighbour[1])))\n",
    "        return(to_return)\n",
    "    \n",
    "    # This method get an edge from the graph together with the specified weights\n",
    "    # If the edge doesn't exist it returns None\n",
    "    def get_edge(self, node_one, node_two, features = None):\n",
    "        for neighbour in self._nodes[node_one - 1]:\n",
    "            if(neighbour[0] == node_two - 1):\n",
    "                if(features is None):\n",
    "                    return((node_one, node_two))\n",
    "                return((node_one, node_two, dict((k, neighbour[1][k]) for k in features if k in neighbour[1])))\n",
    "        return(None)\n",
    "    \n",
    "    # This method updates and edge adding more weights or replacing them (based on replace parameter)\n",
    "    # It doesn't do anything if the edge doesn't exist\n",
    "    def update_edge(self, node_one, node_two, weights):\n",
    "        for neighbour in self._nodes[node_one - 1]:\n",
    "            if(neighbour[0] == node_two - 1):\n",
    "                for key in weights.keys():\n",
    "                    neighbour[1][key] = weights[key]\n",
    "                return\n",
    "            \n",
    "    # This method prints the adjacency list of the graph, it will be used just to check that everything works fine\n",
    "    def print_graph(self, head = None):\n",
    "        if(head is None):\n",
    "            head = len(self._nodes)\n",
    "        for index in range(head):\n",
    "            print(index + 1, end = \" : \")\n",
    "            print([(node[0] + 1, node[1]) for node in self._nodes[index]])"
   ]
  },
  {
   "cell_type": "code",
   "execution_count": 342,
   "metadata": {},
   "outputs": [
    {
     "name": "stdout",
     "output_type": "stream",
     "text": [
      "1890815\n"
     ]
    }
   ],
   "source": [
    "counter = 0\n",
    "nodes = open(\"Desktop/adm_hw5/USA-road-d.CAL.co\" , \"r\")\n",
    "while(True):\n",
    "    string = nodes.readline()\n",
    "    if(string == \"\"):\n",
    "        break\n",
    "    if(string[0] == 'v'):\n",
    "        counter = counter + 1\n",
    "nodes.close()\n",
    "print(counter)"
   ]
  },
  {
   "cell_type": "code",
   "execution_count": 343,
   "metadata": {},
   "outputs": [],
   "source": [
    "CAL = Graph(counter)"
   ]
  },
  {
   "cell_type": "code",
   "execution_count": 344,
   "metadata": {},
   "outputs": [],
   "source": [
    "times = open(\"Desktop/adm_hw5/USA-road-t.CAL.gr\", \"r\")\n",
    "distances = open(\"Desktop/adm_hw5/USA-road-d.CAL.gr\", \"r\")\n",
    "counter = 0\n",
    "while(True):\n",
    "    string_time = times.readline()\n",
    "    string_distance = distances.readline()\n",
    "    if(string_time == \"\"):\n",
    "        break\n",
    "    if(string_time[0] == 'a' and (counter % 2) == 1):\n",
    "        edge_time = string_time.split(\" \")\n",
    "        edge_distance = string_distance.split(\" \")\n",
    "        CAL.add_edge((int(edge_time[1]), int(edge_time[2])), {\"Time\" : int(edge_time[3]), \"Distance\" : int(edge_distance[3])})  \n",
    "    counter = counter + 1\n",
    "times.close()\n",
    "distances.close()"
   ]
  },
  {
   "cell_type": "markdown",
   "metadata": {},
   "source": [
    "### Functionality 1:\n",
    "\n",
    "This following function  <i> getNeigh </i> get 3 differrent parameters:\n",
    "* v = current node\n",
    "* nodeList = it is an initially empty list that will contain all nodes visited\n",
    "* typeDistance = one of the three possible distance= time, distance (metres) or network distance\n",
    "\n",
    "This fucntion returns a list of all nodes visited, i.e. the result of our functionality 1.\n",
    "\n",
    "We use a recursive function becuase we inseet a node in the nides visited list in thee following way:\n",
    "* about distance or time: we iterate all neighbour from node v and we recursively subtract every time the distance from initial threshold distance and we add this neighbour to our nodeList. When the current distance has an higher value than remaining distance, we stop to substract and we'll pass to other neighbour to previous node.\n",
    "* about networkDistance: we iterate all neighbours recursively. For every edge that link current node to its neighbour we substract 1 to input threshold distance and we add this current neighbour to our nodeList. When this remaining distance has a value = 0, we stop and we'll pass to another neighbour to previous node.\n"
   ]
  },
  {
   "cell_type": "code",
   "execution_count": 394,
   "metadata": {},
   "outputs": [],
   "source": [
    "\n",
    "def getNeigh(v,nodeList,d,typeDistance):\n",
    "    #add current node in nodeList \n",
    "    if v not in nodeList:\n",
    "        nodeList.append(v)\n",
    "    #case of typeDistance=NetworkDistance    \n",
    "    if typeDistance==\"NetworkDistance\":\n",
    "        #get neighbours of current node v\n",
    "        neighbours=CAL.get_neighbours(v)\n",
    "        #iterate all neighbours\n",
    "        for i in range(len(CAL.get_neighbours(v))):\n",
    "            #get edge betwwen node v and current neighbours\n",
    "            edge=CAL.get_edge(v,neighbours[i])\n",
    "            #check if we can put this neighbours in nodeList\n",
    "            if not d==0 and neighbours[i] not in nodeList:\n",
    "                \n",
    "                nodeList.append(neighbours[i])\n",
    "                \n",
    "                getNeigh(neighbours[i],nodeList,d-1,typeDistance)\n",
    "        \n",
    "        return nodeList\n",
    "        \n",
    "    else:\n",
    "        #case of typeDistance is not NetworkDistance, i.e. it is 'Distance' or 'Time'\n",
    "        \n",
    "        #get neighbours with its information(time or distance) of current node v\n",
    "        neighbours=CAL.get_neighbours(v,[typeDistance])\n",
    "        \n",
    "        #iterate all neighbours of node v\n",
    "        for i in range(len(CAL.get_neighbours(v,[typeDistance]))):\n",
    "            \n",
    "            #get edge between node v and current its neighbour\n",
    "            edge=CAL.get_edge(v,neighbours[i][0],[typeDistance])\n",
    "            \n",
    "            #check if we can put current neighbour in nodeList\n",
    "            if edge[2][typeDistance] < d and neighbours[i][0] not in nodeList:\n",
    "             \n",
    "                nodeList.append(neighbours[i][0])\n",
    "                \n",
    "                getNeigh(neighbours[i][0],nodeList,d-edge[2][typeDistance],typeDistance)\n",
    "        \n",
    "        \n",
    "        return nodeList"
   ]
  },
  {
   "cell_type": "markdown",
   "metadata": {},
   "source": [
    "We call 'getNeigh' fucntion that needs the following four parameters:\n",
    "\n",
    "* <b> v </b> is the input node\n",
    "* <b> d </b>is distance threshold\n",
    "* <b> nodeList </b> is an empy list that function 'getNeigh' use to caluclate final nodes list\n",
    "* <b> typeDistance </b> stay for the type of distance that we want to consider. As it is written in homework track we have t(x,y), d(x,y) and network distance. <i>\"Time\" </i> stay for t(x,y), <i>\"Distance\"</i> stay for d(x,y) and <i>\"NetworkDistance\"</i> stay for network distance. \n",
    "\n",
    "Then we have 3 different execution of 'getNeigh' function with different type of distance."
   ]
  },
  {
   "cell_type": "markdown",
   "metadata": {},
   "source": [
    "#### Time distance - 'Time'"
   ]
  },
  {
   "cell_type": "code",
   "execution_count": 397,
   "metadata": {},
   "outputs": [
    {
     "data": {
      "text/plain": [
       "[6, 5, 1050368, 2238, 1050369, 2239]"
      ]
     },
     "execution_count": 397,
     "metadata": {},
     "output_type": "execute_result"
    }
   ],
   "source": [
    "v=6\n",
    "d=45333\n",
    "nodeList=[]\n",
    "typeDistance=\"Time\"\n",
    "result=getNeigh(v,nodeList,d,typeDistance)\n",
    "result"
   ]
  },
  {
   "cell_type": "markdown",
   "metadata": {},
   "source": [
    "#### Metres distance - 'Distance'"
   ]
  },
  {
   "cell_type": "code",
   "execution_count": 398,
   "metadata": {},
   "outputs": [
    {
     "data": {
      "text/plain": [
       "[6,\n",
       " 5,\n",
       " 2244,\n",
       " 1050375,\n",
       " 2247,\n",
       " 2252,\n",
       " 2245,\n",
       " 1050293,\n",
       " 2144,\n",
       " 1048581,\n",
       " 8,\n",
       " 1050368,\n",
       " 2238,\n",
       " 1050369,\n",
       " 2237,\n",
       " 2229,\n",
       " 1050363,\n",
       " 2251,\n",
       " 2230,\n",
       " 1050367,\n",
       " 2234,\n",
       " 2235,\n",
       " 2641,\n",
       " 2236,\n",
       " 2642,\n",
       " 1050695,\n",
       " 1050373,\n",
       " 2243,\n",
       " 2643,\n",
       " 1050696,\n",
       " 1050694,\n",
       " 2239,\n",
       " 1050370,\n",
       " 2605,\n",
       " 2240,\n",
       " 1050268,\n",
       " 2109,\n",
       " 2602,\n",
       " 2241,\n",
       " 2233,\n",
       " 2232,\n",
       " 1050876,\n",
       " 1050665,\n",
       " 2606,\n",
       " 2872]"
      ]
     },
     "execution_count": 398,
     "metadata": {},
     "output_type": "execute_result"
    }
   ],
   "source": [
    "v=6\n",
    "d=38000\n",
    "typeDistance=\"Distance\"\n",
    "nodeList=[]\n",
    "result=getNeigh(v,nodeList,d,typeDistance)\n",
    "result"
   ]
  },
  {
   "cell_type": "markdown",
   "metadata": {},
   "source": [
    "#### Network distance (i.e. consider all edges to have weight equal to 1) - 'NetworkDistance'"
   ]
  },
  {
   "cell_type": "code",
   "execution_count": 399,
   "metadata": {},
   "outputs": [
    {
     "data": {
      "text/plain": [
       "[6,\n",
       " 5,\n",
       " 2244,\n",
       " 1050375,\n",
       " 2247,\n",
       " 2252,\n",
       " 1048581,\n",
       " 8,\n",
       " 1050376,\n",
       " 2246,\n",
       " 1050368,\n",
       " 2238,\n",
       " 1050369,\n",
       " 2237,\n",
       " 2229,\n",
       " 2239,\n",
       " 1050370]"
      ]
     },
     "execution_count": 399,
     "metadata": {},
     "output_type": "execute_result"
    }
   ],
   "source": [
    "v=6\n",
    "nodeList=[]\n",
    "d=5\n",
    "typeDistance=\"NetworkDistance\"\n",
    "result=getNeigh(v,nodeList,d,typeDistance)\n",
    "\n",
    "result"
   ]
  },
  {
   "cell_type": "code",
   "execution_count": null,
   "metadata": {},
   "outputs": [],
   "source": []
  }
 ],
 "metadata": {
  "kernelspec": {
   "display_name": "Python 3",
   "language": "python",
   "name": "python3"
  },
  "language_info": {
   "codemirror_mode": {
    "name": "ipython",
    "version": 3
   },
   "file_extension": ".py",
   "mimetype": "text/x-python",
   "name": "python",
   "nbconvert_exporter": "python",
   "pygments_lexer": "ipython3",
   "version": "3.7.3"
  }
 },
 "nbformat": 4,
 "nbformat_minor": 2
}
